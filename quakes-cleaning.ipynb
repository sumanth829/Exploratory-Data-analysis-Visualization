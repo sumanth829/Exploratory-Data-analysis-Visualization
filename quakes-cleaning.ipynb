{
 "cells": [
  {
   "cell_type": "markdown",
   "id": "c3a70414-54f0-4972-8446-223939810763",
   "metadata": {},
   "source": [
    "## 1. Read the raw data into a pandas dataframe. \n"
   ]
  },
  {
   "cell_type": "code",
   "execution_count": 10,
   "id": "95ab091a-7e64-4d71-9e2d-df0218d8f6f0",
   "metadata": {},
   "outputs": [],
   "source": [
    "# Import the required libraries\n",
    "import pandas as pd\n",
    "import numpy as np\n",
    "import matplotlib.pyplot as plt\n",
    "import os\n",
    "\n",
    "# Set pandas optino to view complete dataframe\n",
    "pd.set_option('display.max_columns', 23)"
   ]
  },
  {
   "cell_type": "code",
   "execution_count": 11,
   "id": "8ac33295-3bef-4520-ae32-8d4e287508de",
   "metadata": {},
   "outputs": [],
   "source": [
    "dataset_location = './Earthquakes'\n",
    "file_name = 'quakes.csv'"
   ]
  },
  {
   "cell_type": "code",
   "execution_count": 12,
   "id": "763268be-65ff-4ed0-b7bd-97faf4881557",
   "metadata": {},
   "outputs": [],
   "source": [
    "df = pd.read_csv(\"quakes.csv\")"
   ]
  },
  {
   "cell_type": "code",
   "execution_count": 13,
   "id": "427c90de-0b38-49b0-8001-9253a91ab444",
   "metadata": {},
   "outputs": [
    {
     "data": {
      "text/html": [
       "<div>\n",
       "<style scoped>\n",
       "    .dataframe tbody tr th:only-of-type {\n",
       "        vertical-align: middle;\n",
       "    }\n",
       "\n",
       "    .dataframe tbody tr th {\n",
       "        vertical-align: top;\n",
       "    }\n",
       "\n",
       "    .dataframe thead th {\n",
       "        text-align: right;\n",
       "    }\n",
       "</style>\n",
       "<table border=\"1\" class=\"dataframe\">\n",
       "  <thead>\n",
       "    <tr style=\"text-align: right;\">\n",
       "      <th></th>\n",
       "      <th>time</th>\n",
       "      <th>latitude</th>\n",
       "      <th>longitude</th>\n",
       "      <th>depth</th>\n",
       "      <th>mag</th>\n",
       "      <th>magType</th>\n",
       "      <th>nst</th>\n",
       "      <th>gap</th>\n",
       "      <th>dmin</th>\n",
       "      <th>rms</th>\n",
       "      <th>net</th>\n",
       "      <th>id</th>\n",
       "      <th>updated</th>\n",
       "      <th>place</th>\n",
       "      <th>type</th>\n",
       "      <th>horizontalError</th>\n",
       "      <th>depthError</th>\n",
       "      <th>magError</th>\n",
       "      <th>magNst</th>\n",
       "      <th>status</th>\n",
       "      <th>locationSource</th>\n",
       "      <th>magSource</th>\n",
       "    </tr>\n",
       "  </thead>\n",
       "  <tbody>\n",
       "    <tr>\n",
       "      <th>0</th>\n",
       "      <td>2023-11-15T09:05:07.304Z</td>\n",
       "      <td>61.580800</td>\n",
       "      <td>-149.847000</td>\n",
       "      <td>32.800000</td>\n",
       "      <td>1.70</td>\n",
       "      <td>ml</td>\n",
       "      <td>NaN</td>\n",
       "      <td>NaN</td>\n",
       "      <td>NaN</td>\n",
       "      <td>0.22</td>\n",
       "      <td>ak</td>\n",
       "      <td>ak023enptp4a</td>\n",
       "      <td>2023-11-15T09:06:28.283Z</td>\n",
       "      <td>5 km SSW of Houston, Alaska</td>\n",
       "      <td>earthquake</td>\n",
       "      <td>NaN</td>\n",
       "      <td>0.20</td>\n",
       "      <td>NaN</td>\n",
       "      <td>NaN</td>\n",
       "      <td>automatic</td>\n",
       "      <td>ak</td>\n",
       "      <td>ak</td>\n",
       "    </tr>\n",
       "    <tr>\n",
       "      <th>1</th>\n",
       "      <td>2023-11-15T08:53:06.688Z</td>\n",
       "      <td>61.079400</td>\n",
       "      <td>-147.883000</td>\n",
       "      <td>14.800000</td>\n",
       "      <td>1.00</td>\n",
       "      <td>ml</td>\n",
       "      <td>NaN</td>\n",
       "      <td>NaN</td>\n",
       "      <td>NaN</td>\n",
       "      <td>0.80</td>\n",
       "      <td>ak</td>\n",
       "      <td>ak023enpiju4</td>\n",
       "      <td>2023-11-15T08:54:38.102Z</td>\n",
       "      <td>55 km NE of Whittier, Alaska</td>\n",
       "      <td>earthquake</td>\n",
       "      <td>NaN</td>\n",
       "      <td>0.30</td>\n",
       "      <td>NaN</td>\n",
       "      <td>NaN</td>\n",
       "      <td>automatic</td>\n",
       "      <td>ak</td>\n",
       "      <td>ak</td>\n",
       "    </tr>\n",
       "    <tr>\n",
       "      <th>2</th>\n",
       "      <td>2023-11-15T08:41:52.480Z</td>\n",
       "      <td>19.380667</td>\n",
       "      <td>-155.285339</td>\n",
       "      <td>0.320000</td>\n",
       "      <td>1.73</td>\n",
       "      <td>md</td>\n",
       "      <td>15.0</td>\n",
       "      <td>153.0</td>\n",
       "      <td>NaN</td>\n",
       "      <td>0.20</td>\n",
       "      <td>hv</td>\n",
       "      <td>hv73648602</td>\n",
       "      <td>2023-11-15T08:56:22.252Z</td>\n",
       "      <td>8 km SW of Volcano, Hawaii</td>\n",
       "      <td>earthquake</td>\n",
       "      <td>0.33</td>\n",
       "      <td>0.38</td>\n",
       "      <td>0.59</td>\n",
       "      <td>15.0</td>\n",
       "      <td>automatic</td>\n",
       "      <td>hv</td>\n",
       "      <td>hv</td>\n",
       "    </tr>\n",
       "    <tr>\n",
       "      <th>3</th>\n",
       "      <td>2023-11-15T07:44:53.035Z</td>\n",
       "      <td>61.638200</td>\n",
       "      <td>-149.782800</td>\n",
       "      <td>32.900000</td>\n",
       "      <td>1.90</td>\n",
       "      <td>ml</td>\n",
       "      <td>NaN</td>\n",
       "      <td>NaN</td>\n",
       "      <td>NaN</td>\n",
       "      <td>0.31</td>\n",
       "      <td>ak</td>\n",
       "      <td>ak023enovad3</td>\n",
       "      <td>2023-11-15T07:46:10.981Z</td>\n",
       "      <td>NaN</td>\n",
       "      <td>earthquake</td>\n",
       "      <td>NaN</td>\n",
       "      <td>0.20</td>\n",
       "      <td>NaN</td>\n",
       "      <td>NaN</td>\n",
       "      <td>automatic</td>\n",
       "      <td>ak</td>\n",
       "      <td>ak</td>\n",
       "    </tr>\n",
       "    <tr>\n",
       "      <th>4</th>\n",
       "      <td>2023-11-15T07:19:44.540Z</td>\n",
       "      <td>18.972166</td>\n",
       "      <td>-155.451660</td>\n",
       "      <td>34.759998</td>\n",
       "      <td>1.87</td>\n",
       "      <td>md</td>\n",
       "      <td>37.0</td>\n",
       "      <td>236.0</td>\n",
       "      <td>NaN</td>\n",
       "      <td>0.12</td>\n",
       "      <td>hv</td>\n",
       "      <td>hv73648502</td>\n",
       "      <td>2023-11-15T07:22:58.830Z</td>\n",
       "      <td>17 km SE of Naalehu, Hawaii</td>\n",
       "      <td>earthquake</td>\n",
       "      <td>0.71</td>\n",
       "      <td>0.89</td>\n",
       "      <td>0.88</td>\n",
       "      <td>5.0</td>\n",
       "      <td>automatic</td>\n",
       "      <td>hv</td>\n",
       "      <td>hv</td>\n",
       "    </tr>\n",
       "  </tbody>\n",
       "</table>\n",
       "</div>"
      ],
      "text/plain": [
       "                       time   latitude   longitude      depth   mag magType  \\\n",
       "0  2023-11-15T09:05:07.304Z  61.580800 -149.847000  32.800000  1.70      ml   \n",
       "1  2023-11-15T08:53:06.688Z  61.079400 -147.883000  14.800000  1.00      ml   \n",
       "2  2023-11-15T08:41:52.480Z  19.380667 -155.285339   0.320000  1.73      md   \n",
       "3  2023-11-15T07:44:53.035Z  61.638200 -149.782800  32.900000  1.90      ml   \n",
       "4  2023-11-15T07:19:44.540Z  18.972166 -155.451660  34.759998  1.87      md   \n",
       "\n",
       "    nst    gap  dmin   rms net            id                   updated  \\\n",
       "0   NaN    NaN   NaN  0.22  ak  ak023enptp4a  2023-11-15T09:06:28.283Z   \n",
       "1   NaN    NaN   NaN  0.80  ak  ak023enpiju4  2023-11-15T08:54:38.102Z   \n",
       "2  15.0  153.0   NaN  0.20  hv    hv73648602  2023-11-15T08:56:22.252Z   \n",
       "3   NaN    NaN   NaN  0.31  ak  ak023enovad3  2023-11-15T07:46:10.981Z   \n",
       "4  37.0  236.0   NaN  0.12  hv    hv73648502  2023-11-15T07:22:58.830Z   \n",
       "\n",
       "                          place        type  horizontalError  depthError  \\\n",
       "0   5 km SSW of Houston, Alaska  earthquake              NaN        0.20   \n",
       "1  55 km NE of Whittier, Alaska  earthquake              NaN        0.30   \n",
       "2    8 km SW of Volcano, Hawaii  earthquake             0.33        0.38   \n",
       "3                           NaN  earthquake              NaN        0.20   \n",
       "4   17 km SE of Naalehu, Hawaii  earthquake             0.71        0.89   \n",
       "\n",
       "   magError  magNst     status locationSource magSource  \n",
       "0       NaN     NaN  automatic             ak        ak  \n",
       "1       NaN     NaN  automatic             ak        ak  \n",
       "2      0.59    15.0  automatic             hv        hv  \n",
       "3       NaN     NaN  automatic             ak        ak  \n",
       "4      0.88     5.0  automatic             hv        hv  "
      ]
     },
     "execution_count": 13,
     "metadata": {},
     "output_type": "execute_result"
    }
   ],
   "source": [
    "# View the top 5 rows of the dataframe\n",
    "df.head()"
   ]
  },
  {
   "cell_type": "markdown",
   "id": "cecd6cbd-40e0-4e1f-868c-86c09bffd661",
   "metadata": {},
   "source": [
    "## 2. Perform necessary cleanups, ensuring appropriate data types for each column. \n"
   ]
  },
  {
   "cell_type": "markdown",
   "id": "e7aeb1e9-af92-4873-bdf9-2af274c9b529",
   "metadata": {},
   "source": [
    "### 2.1 Appropriate Data Type"
   ]
  },
  {
   "cell_type": "code",
   "execution_count": 14,
   "id": "8f47a975-ba67-4a7c-84b8-354eac2169e5",
   "metadata": {},
   "outputs": [
    {
     "data": {
      "text/plain": [
       "time                object\n",
       "latitude           float64\n",
       "longitude          float64\n",
       "depth              float64\n",
       "mag                float64\n",
       "magType             object\n",
       "nst                float64\n",
       "gap                float64\n",
       "dmin               float64\n",
       "rms                float64\n",
       "net                 object\n",
       "id                  object\n",
       "updated             object\n",
       "place               object\n",
       "type                object\n",
       "horizontalError    float64\n",
       "depthError         float64\n",
       "magError           float64\n",
       "magNst             float64\n",
       "status              object\n",
       "locationSource      object\n",
       "magSource           object\n",
       "dtype: object"
      ]
     },
     "execution_count": 14,
     "metadata": {},
     "output_type": "execute_result"
    }
   ],
   "source": [
    "# Check the current dtype of all the columns\n",
    "df.dtypes"
   ]
  },
  {
   "cell_type": "code",
   "execution_count": 15,
   "id": "f7cd180d-d08e-48a8-8853-189a81f17578",
   "metadata": {},
   "outputs": [
    {
     "name": "stdout",
     "output_type": "stream",
     "text": [
      "time Unique Values ->\n",
      "['2023-11-15T09:05:07.304Z' '2023-11-15T08:53:06.688Z'\n",
      " '2023-11-15T08:41:52.480Z' ... '2023-09-01T00:45:43.100Z'\n",
      " '2023-09-01T00:42:08.428Z' '2023-09-01T00:04:57.310Z']\n",
      "Number of Unique Values: 19242\n",
      "\n",
      "\n",
      "magType Unique Values ->\n",
      "['ml' 'md' 'mb' 'mlv' 'ml(texnet)' 'mww' 'mb_lg' 'mwr' 'mw' 'mwb' 'Mi'\n",
      " 'mh' 'Mb' 'ms_vx']\n",
      "Number of Unique Values: 14\n",
      "\n",
      "\n",
      "net Unique Values ->\n",
      "['ak' 'hv' 'nc' 'us' 'ok' 'pr' 'tx' 'ci' 'mb' 'nn' 'av' 'uu' 'uw' 'nm'\n",
      " 'se' 'pt' 'at']\n",
      "Number of Unique Values: 17\n",
      "\n",
      "\n",
      "id Unique Values ->\n",
      "['ak023enptp4a' 'ak023enpiju4' 'hv73648602' ... 'pr71422843'\n",
      " 'ak023b7jdp67' 'hv73555557']\n",
      "Number of Unique Values: 19244\n",
      "\n",
      "\n",
      "updated Unique Values ->\n",
      "['2023-11-15T09:06:28.283Z' '2023-11-15T08:54:38.102Z'\n",
      " '2023-11-15T08:56:22.252Z' ... '2023-09-01T01:02:07.540Z'\n",
      " '2023-09-14T00:54:41.772Z' '2023-09-01T00:08:17.330Z']\n",
      "Number of Unique Values: 19147\n",
      "\n",
      "\n",
      "place Unique Values ->\n",
      "['5 km SSW of Houston, Alaska' '55 km NE of Whittier, Alaska'\n",
      " '8 km SW of Volcano, Hawaii' ... '136 km SE of Akutan, Alaska'\n",
      " '13 km E of Pāhala, Hawaii' '25 km NNE of Chenega, Alaska']\n",
      "Number of Unique Values: 10315\n",
      "\n",
      "\n",
      "type Unique Values ->\n",
      "['earthquake' 'quarry blast' 'explosion' 'other event' 'ice quake'\n",
      " 'experimental explosion' 'landslide' 'volcanic eruption'\n",
      " 'mining explosion']\n",
      "Number of Unique Values: 9\n",
      "\n",
      "\n",
      "status Unique Values ->\n",
      "['automatic' 'reviewed']\n",
      "Number of Unique Values: 2\n",
      "\n",
      "\n",
      "locationSource Unique Values ->\n",
      "['ak' 'hv' 'nc' 'us' 'ok' 'pr' 'tx' 'ci' 'mb' 'nn' 'av' 'uu' 'uw' 'nm'\n",
      " 'se' 'pt' 'at' 'dnk']\n",
      "Number of Unique Values: 18\n",
      "\n",
      "\n",
      "magSource Unique Values ->\n",
      "['ak' 'hv' 'nc' 'us' 'ok' 'pr' 'tx' 'ci' 'mb' 'nn' 'av' 'uu' 'uw' 'nm'\n",
      " 'se' 'guc' 'pt' 'ott' 'pgc' 'at']\n",
      "Number of Unique Values: 20\n",
      "\n",
      "\n"
     ]
    }
   ],
   "source": [
    "# Check the unique values of all the columns having object type\n",
    "for col in df.columns:\n",
    "    if df[col].dtype == 'O': # Object dtype\n",
    "        print(f'{col} Unique Values ->')\n",
    "        print(df[col].unique())\n",
    "        print(f'Number of Unique Values: {len(df[col].unique())}')\n",
    "        print('\\n')"
   ]
  },
  {
   "cell_type": "markdown",
   "id": "fbc42999-d719-41e1-8660-c8b17da0146f",
   "metadata": {},
   "source": [
    "- `time`: Converted to datetime64[ns] to represent the timestamp.\n",
    "- `latitude`, `longitude`, `depth`, `mag`, `nst`, `gap`, `dmin`, `rms`, `horizontalError`, `depthError`, `magError`, `magNst`: These columns seem to represent numerical values, so they are kept as float64.\n",
    "- `id`, `place`: These columns seem to represent string values, so they are kept as object.\n",
    "- `magType`, `net`, `type`, `status`, `locationSource`, `magSource` -> These columns seem to represent categorical so converting it to a categorical type.\n",
    "- `updated`: Converted to datetime64[ns] to represent the timestamp."
   ]
  },
  {
   "cell_type": "code",
   "execution_count": 16,
   "id": "5cd08ce5-39d4-4ce5-a076-f28e67617ec7",
   "metadata": {},
   "outputs": [
    {
     "data": {
      "text/plain": [
       "time               datetime64[ns, UTC]\n",
       "latitude                       float64\n",
       "longitude                      float64\n",
       "depth                          float64\n",
       "mag                            float64\n",
       "magType                       category\n",
       "nst                            float64\n",
       "gap                            float64\n",
       "dmin                           float64\n",
       "rms                            float64\n",
       "net                           category\n",
       "id                              object\n",
       "updated            datetime64[ns, UTC]\n",
       "place                           object\n",
       "type                          category\n",
       "horizontalError                float64\n",
       "depthError                     float64\n",
       "magError                       float64\n",
       "magNst                         float64\n",
       "status                        category\n",
       "locationSource                category\n",
       "magSource                     category\n",
       "dtype: object"
      ]
     },
     "execution_count": 16,
     "metadata": {},
     "output_type": "execute_result"
    }
   ],
   "source": [
    "# Convert 'time' and 'updated' to datetime64[ns]\n",
    "df['time'] = pd.to_datetime(df['time'])\n",
    "df['updated'] = pd.to_datetime(df['updated'])\n",
    "\n",
    "# Convert categorical columns to categorical type\n",
    "categorical_columns = ['magType', 'net', 'type', 'status', 'locationSource', 'magSource']\n",
    "df[categorical_columns] = df[categorical_columns].astype('category')\n",
    "\n",
    "# Display the updated datatypes\n",
    "df.dtypes"
   ]
  },
  {
   "cell_type": "markdown",
   "id": "3d0a2f79-5a78-41b5-9efb-eef4b576504e",
   "metadata": {},
   "source": [
    "## 3. Remove unwanted data and handle missing values. "
   ]
  },
  {
   "cell_type": "code",
   "execution_count": 17,
   "id": "9075a362-d0d0-466c-af8c-ddbea5fd4436",
   "metadata": {},
   "outputs": [
    {
     "data": {
      "text/plain": [
       "time                  0\n",
       "latitude              0\n",
       "longitude             0\n",
       "depth                 0\n",
       "mag                   0\n",
       "magType               0\n",
       "nst                6616\n",
       "gap                6618\n",
       "dmin               8402\n",
       "rms                   1\n",
       "net                   0\n",
       "id                    0\n",
       "updated               0\n",
       "place               972\n",
       "type                  0\n",
       "horizontalError    7553\n",
       "depthError            1\n",
       "magError           6688\n",
       "magNst             6659\n",
       "status                0\n",
       "locationSource        0\n",
       "magSource             0\n",
       "dtype: int64"
      ]
     },
     "execution_count": 17,
     "metadata": {},
     "output_type": "execute_result"
    }
   ],
   "source": [
    "# Check for Missing values\n",
    "df.isna().sum()"
   ]
  },
  {
   "cell_type": "markdown",
   "id": "27ae654d-1ec0-4cb8-9d1e-f486704112f4",
   "metadata": {},
   "source": [
    "So there are some missing data in the following columns `nst`, `gap`, `dmin`, `rms`, `place`, `7553`, `deptherror`, `magError`, and `magNst`"
   ]
  },
  {
   "cell_type": "code",
   "execution_count": 18,
   "id": "19172cf4-31ec-4e6a-89ce-217375b2ecf0",
   "metadata": {},
   "outputs": [
    {
     "data": {
      "text/plain": [
       "time               0\n",
       "latitude           0\n",
       "longitude          0\n",
       "depth              0\n",
       "mag                0\n",
       "magType            0\n",
       "nst                0\n",
       "gap                0\n",
       "dmin               0\n",
       "rms                0\n",
       "net                0\n",
       "id                 0\n",
       "updated            0\n",
       "place              0\n",
       "type               0\n",
       "horizontalError    0\n",
       "depthError         0\n",
       "magError           0\n",
       "magNst             0\n",
       "status             0\n",
       "locationSource     0\n",
       "magSource          0\n",
       "dtype: int64"
      ]
     },
     "execution_count": 18,
     "metadata": {},
     "output_type": "execute_result"
    }
   ],
   "source": [
    "# Impute missing values for numerical columns with their respective means\n",
    "numerical_columns = ['nst', 'gap', 'dmin', 'rms', 'horizontalError', 'depthError', 'magError', 'magNst']\n",
    "df[numerical_columns] = df[numerical_columns].apply(lambda x: x.fillna(x.mean()))\n",
    "\n",
    "# Impute missing values for 'place' (categorical column) with the most frequent category\n",
    "df['place'].fillna(df['place'].mode()[0], inplace=True)\n",
    "\n",
    "# Display the updated DataFrame with no missing values\n",
    "df.isnull().sum()"
   ]
  },
  {
   "cell_type": "code",
   "execution_count": 19,
   "id": "396aff58-7662-43fd-b84b-e2454fa94f34",
   "metadata": {},
   "outputs": [
    {
     "name": "stdout",
     "output_type": "stream",
     "text": [
      "<class 'pandas.core.frame.DataFrame'>\n",
      "RangeIndex: 19244 entries, 0 to 19243\n",
      "Data columns (total 21 columns):\n",
      " #   Column           Non-Null Count  Dtype              \n",
      "---  ------           --------------  -----              \n",
      " 0   time             19244 non-null  datetime64[ns, UTC]\n",
      " 1   latitude         19244 non-null  float64            \n",
      " 2   longitude        19244 non-null  float64            \n",
      " 3   depth            19244 non-null  float64            \n",
      " 4   mag              19244 non-null  float64            \n",
      " 5   magType          19244 non-null  category           \n",
      " 6   nst              19244 non-null  float64            \n",
      " 7   gap              19244 non-null  float64            \n",
      " 8   dmin             19244 non-null  float64            \n",
      " 9   rms              19244 non-null  float64            \n",
      " 10  net              19244 non-null  category           \n",
      " 11  updated          19244 non-null  datetime64[ns, UTC]\n",
      " 12  place            19244 non-null  object             \n",
      " 13  type             19244 non-null  category           \n",
      " 14  horizontalError  19244 non-null  float64            \n",
      " 15  depthError       19244 non-null  float64            \n",
      " 16  magError         19244 non-null  float64            \n",
      " 17  magNst           19244 non-null  float64            \n",
      " 18  status           19244 non-null  category           \n",
      " 19  locationSource   19244 non-null  category           \n",
      " 20  magSource        19244 non-null  category           \n",
      "dtypes: category(6), datetime64[ns, UTC](2), float64(12), object(1)\n",
      "memory usage: 2.3+ MB\n"
     ]
    }
   ],
   "source": [
    "# Since the Id column is of no significant information we are removing that column\n",
    "df = df.drop(['id'], axis=1)\n",
    "df.info()"
   ]
  },
  {
   "cell_type": "markdown",
   "id": "04ca5084-7ed5-4a83-b101-059bacffabd5",
   "metadata": {},
   "source": [
    "## 4. Save the cleaned data as `quakes-cleaned.csv`."
   ]
  },
  {
   "cell_type": "code",
   "execution_count": 27,
   "id": "698284d6-df9b-481b-8161-cce72e71a0a9",
   "metadata": {},
   "outputs": [],
   "source": [
    "# Save the dataset\n",
    "df.to_csv(('quakes-cleaned.csv'), index=False)"
   ]
  }
 ],
 "metadata": {
  "kernelspec": {
   "display_name": "Python 3 (ipykernel)",
   "language": "python",
   "name": "python3"
  },
  "language_info": {
   "codemirror_mode": {
    "name": "ipython",
    "version": 3
   },
   "file_extension": ".py",
   "mimetype": "text/x-python",
   "name": "python",
   "nbconvert_exporter": "python",
   "pygments_lexer": "ipython3",
   "version": "3.11.7"
  }
 },
 "nbformat": 4,
 "nbformat_minor": 5
}
