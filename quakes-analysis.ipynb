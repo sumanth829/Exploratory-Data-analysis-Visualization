{
 "cells": [
  {
   "cell_type": "markdown",
   "metadata": {},
   "source": [
    "## 1. Read the cleaned data from `quakes-cleaned.csv` into a pandas dataframe."
   ]
  },
  {
   "cell_type": "code",
   "execution_count": 6,
   "metadata": {},
   "outputs": [],
   "source": [
    "# Import the required libraries\n",
    "import pandas as pd\n",
    "import numpy as np\n",
    "import matplotlib.pyplot as plt\n",
    "import os\n",
    "\n",
    "# Set pandas optino to view complete dataframe\n",
    "pd.set_option('display.max_columns', 23)"
   ]
  },
  {
   "cell_type": "code",
   "execution_count": 7,
   "metadata": {},
   "outputs": [],
   "source": [
    "dataset_location = './Earthquakes'\n",
    "file_name = 'quakes-cleaned.csv'"
   ]
  },
  {
   "cell_type": "code",
   "execution_count": 8,
   "metadata": {},
   "outputs": [],
   "source": [
    "df = pd.read_csv('quakes-cleaned.csv')"
   ]
  },
  {
   "cell_type": "code",
   "execution_count": 9,
   "metadata": {},
   "outputs": [
    {
     "data": {
      "text/html": [
       "<div>\n",
       "<style scoped>\n",
       "    .dataframe tbody tr th:only-of-type {\n",
       "        vertical-align: middle;\n",
       "    }\n",
       "\n",
       "    .dataframe tbody tr th {\n",
       "        vertical-align: top;\n",
       "    }\n",
       "\n",
       "    .dataframe thead th {\n",
       "        text-align: right;\n",
       "    }\n",
       "</style>\n",
       "<table border=\"1\" class=\"dataframe\">\n",
       "  <thead>\n",
       "    <tr style=\"text-align: right;\">\n",
       "      <th></th>\n",
       "      <th>time</th>\n",
       "      <th>latitude</th>\n",
       "      <th>longitude</th>\n",
       "      <th>depth</th>\n",
       "      <th>mag</th>\n",
       "      <th>magType</th>\n",
       "      <th>nst</th>\n",
       "      <th>gap</th>\n",
       "      <th>dmin</th>\n",
       "      <th>rms</th>\n",
       "      <th>net</th>\n",
       "      <th>updated</th>\n",
       "      <th>place</th>\n",
       "      <th>type</th>\n",
       "      <th>horizontalError</th>\n",
       "      <th>depthError</th>\n",
       "      <th>magError</th>\n",
       "      <th>magNst</th>\n",
       "      <th>status</th>\n",
       "      <th>locationSource</th>\n",
       "      <th>magSource</th>\n",
       "    </tr>\n",
       "  </thead>\n",
       "  <tbody>\n",
       "    <tr>\n",
       "      <th>0</th>\n",
       "      <td>2023-11-15 09:05:07.304000+00:00</td>\n",
       "      <td>61.580800</td>\n",
       "      <td>-149.847000</td>\n",
       "      <td>32.800000</td>\n",
       "      <td>1.70</td>\n",
       "      <td>ml</td>\n",
       "      <td>31.315331</td>\n",
       "      <td>110.554586</td>\n",
       "      <td>1.0853</td>\n",
       "      <td>0.22</td>\n",
       "      <td>ak</td>\n",
       "      <td>2023-11-15 09:06:28.283000+00:00</td>\n",
       "      <td>5 km SSW of Houston, Alaska</td>\n",
       "      <td>earthquake</td>\n",
       "      <td>2.794488</td>\n",
       "      <td>0.20</td>\n",
       "      <td>0.239882</td>\n",
       "      <td>21.952086</td>\n",
       "      <td>automatic</td>\n",
       "      <td>ak</td>\n",
       "      <td>ak</td>\n",
       "    </tr>\n",
       "    <tr>\n",
       "      <th>1</th>\n",
       "      <td>2023-11-15 08:53:06.688000+00:00</td>\n",
       "      <td>61.079400</td>\n",
       "      <td>-147.883000</td>\n",
       "      <td>14.800000</td>\n",
       "      <td>1.00</td>\n",
       "      <td>ml</td>\n",
       "      <td>31.315331</td>\n",
       "      <td>110.554586</td>\n",
       "      <td>1.0853</td>\n",
       "      <td>0.80</td>\n",
       "      <td>ak</td>\n",
       "      <td>2023-11-15 08:54:38.102000+00:00</td>\n",
       "      <td>55 km NE of Whittier, Alaska</td>\n",
       "      <td>earthquake</td>\n",
       "      <td>2.794488</td>\n",
       "      <td>0.30</td>\n",
       "      <td>0.239882</td>\n",
       "      <td>21.952086</td>\n",
       "      <td>automatic</td>\n",
       "      <td>ak</td>\n",
       "      <td>ak</td>\n",
       "    </tr>\n",
       "    <tr>\n",
       "      <th>2</th>\n",
       "      <td>2023-11-15 08:41:52.480000+00:00</td>\n",
       "      <td>19.380667</td>\n",
       "      <td>-155.285339</td>\n",
       "      <td>0.320000</td>\n",
       "      <td>1.73</td>\n",
       "      <td>md</td>\n",
       "      <td>15.000000</td>\n",
       "      <td>153.000000</td>\n",
       "      <td>1.0853</td>\n",
       "      <td>0.20</td>\n",
       "      <td>hv</td>\n",
       "      <td>2023-11-15 08:56:22.252000+00:00</td>\n",
       "      <td>8 km SW of Volcano, Hawaii</td>\n",
       "      <td>earthquake</td>\n",
       "      <td>0.330000</td>\n",
       "      <td>0.38</td>\n",
       "      <td>0.590000</td>\n",
       "      <td>15.000000</td>\n",
       "      <td>automatic</td>\n",
       "      <td>hv</td>\n",
       "      <td>hv</td>\n",
       "    </tr>\n",
       "    <tr>\n",
       "      <th>3</th>\n",
       "      <td>2023-11-15 07:44:53.035000+00:00</td>\n",
       "      <td>61.638200</td>\n",
       "      <td>-149.782800</td>\n",
       "      <td>32.900000</td>\n",
       "      <td>1.90</td>\n",
       "      <td>ml</td>\n",
       "      <td>31.315331</td>\n",
       "      <td>110.554586</td>\n",
       "      <td>1.0853</td>\n",
       "      <td>0.31</td>\n",
       "      <td>ak</td>\n",
       "      <td>2023-11-15 07:46:10.981000+00:00</td>\n",
       "      <td>Southern Alaska</td>\n",
       "      <td>earthquake</td>\n",
       "      <td>2.794488</td>\n",
       "      <td>0.20</td>\n",
       "      <td>0.239882</td>\n",
       "      <td>21.952086</td>\n",
       "      <td>automatic</td>\n",
       "      <td>ak</td>\n",
       "      <td>ak</td>\n",
       "    </tr>\n",
       "    <tr>\n",
       "      <th>4</th>\n",
       "      <td>2023-11-15 07:19:44.540000+00:00</td>\n",
       "      <td>18.972166</td>\n",
       "      <td>-155.451660</td>\n",
       "      <td>34.759998</td>\n",
       "      <td>1.87</td>\n",
       "      <td>md</td>\n",
       "      <td>37.000000</td>\n",
       "      <td>236.000000</td>\n",
       "      <td>1.0853</td>\n",
       "      <td>0.12</td>\n",
       "      <td>hv</td>\n",
       "      <td>2023-11-15 07:22:58.830000+00:00</td>\n",
       "      <td>17 km SE of Naalehu, Hawaii</td>\n",
       "      <td>earthquake</td>\n",
       "      <td>0.710000</td>\n",
       "      <td>0.89</td>\n",
       "      <td>0.880000</td>\n",
       "      <td>5.000000</td>\n",
       "      <td>automatic</td>\n",
       "      <td>hv</td>\n",
       "      <td>hv</td>\n",
       "    </tr>\n",
       "  </tbody>\n",
       "</table>\n",
       "</div>"
      ],
      "text/plain": [
       "                               time   latitude   longitude      depth   mag  \\\n",
       "0  2023-11-15 09:05:07.304000+00:00  61.580800 -149.847000  32.800000  1.70   \n",
       "1  2023-11-15 08:53:06.688000+00:00  61.079400 -147.883000  14.800000  1.00   \n",
       "2  2023-11-15 08:41:52.480000+00:00  19.380667 -155.285339   0.320000  1.73   \n",
       "3  2023-11-15 07:44:53.035000+00:00  61.638200 -149.782800  32.900000  1.90   \n",
       "4  2023-11-15 07:19:44.540000+00:00  18.972166 -155.451660  34.759998  1.87   \n",
       "\n",
       "  magType        nst         gap    dmin   rms net  \\\n",
       "0      ml  31.315331  110.554586  1.0853  0.22  ak   \n",
       "1      ml  31.315331  110.554586  1.0853  0.80  ak   \n",
       "2      md  15.000000  153.000000  1.0853  0.20  hv   \n",
       "3      ml  31.315331  110.554586  1.0853  0.31  ak   \n",
       "4      md  37.000000  236.000000  1.0853  0.12  hv   \n",
       "\n",
       "                            updated                         place        type  \\\n",
       "0  2023-11-15 09:06:28.283000+00:00   5 km SSW of Houston, Alaska  earthquake   \n",
       "1  2023-11-15 08:54:38.102000+00:00  55 km NE of Whittier, Alaska  earthquake   \n",
       "2  2023-11-15 08:56:22.252000+00:00    8 km SW of Volcano, Hawaii  earthquake   \n",
       "3  2023-11-15 07:46:10.981000+00:00               Southern Alaska  earthquake   \n",
       "4  2023-11-15 07:22:58.830000+00:00   17 km SE of Naalehu, Hawaii  earthquake   \n",
       "\n",
       "   horizontalError  depthError  magError     magNst     status locationSource  \\\n",
       "0         2.794488        0.20  0.239882  21.952086  automatic             ak   \n",
       "1         2.794488        0.30  0.239882  21.952086  automatic             ak   \n",
       "2         0.330000        0.38  0.590000  15.000000  automatic             hv   \n",
       "3         2.794488        0.20  0.239882  21.952086  automatic             ak   \n",
       "4         0.710000        0.89  0.880000   5.000000  automatic             hv   \n",
       "\n",
       "  magSource  \n",
       "0        ak  \n",
       "1        ak  \n",
       "2        hv  \n",
       "3        ak  \n",
       "4        hv  "
      ]
     },
     "execution_count": 9,
     "metadata": {},
     "output_type": "execute_result"
    }
   ],
   "source": [
    "df.head()"
   ]
  },
  {
   "cell_type": "markdown",
   "metadata": {},
   "source": [
    "## 2. Use pandas to identify five interesting insights from the data."
   ]
  },
  {
   "cell_type": "markdown",
   "metadata": {},
   "source": [
    "### Insight 1: Most Earthquakes by `locationSource`\n",
    "\n",
    "```python\n",
    "# Insight 1: Mean magnitude of earthquakes by locationSource\n",
    "count_by_location_source = df.groupby('locationSource')['mag'].count().reset_index()\n",
    "print(\"Insight 1: Number of earthquakes by locationSource\")\n",
    "print(count_by_location_source)\n",
    "```\n",
    "\n",
    "**Description:**\n",
    "This bar chart visualizes the count of earthquakes for each `locationSource`. Each bar represents a source, and the height of the bar corresponds to the number of quakes it has occured in location. From the data it is visible that the `ak` location had the highest number of quake compared to the rest of the locations."
   ]
  },
  {
   "cell_type": "code",
   "execution_count": 10,
   "metadata": {},
   "outputs": [
    {
     "name": "stdout",
     "output_type": "stream",
     "text": [
      "Insight 1: Number of earthquakes by locationSource\n",
      "   locationSource   mag\n",
      "0              ak  6616\n",
      "1              at     1\n",
      "2              av   344\n",
      "3              ci  1317\n",
      "4             dnk     1\n",
      "5              hv  1407\n",
      "6              mb   343\n",
      "7              nc  2157\n",
      "8              nm    92\n",
      "9              nn   516\n",
      "10             ok   423\n",
      "11             pr   807\n",
      "12             pt     1\n",
      "13             se    21\n",
      "14             tx  1064\n",
      "15             us  3556\n",
      "16             uu   257\n",
      "17             uw   321\n"
     ]
    }
   ],
   "source": [
    "# Insight 1: Mean magnitude of earthquakes by locationSource\n",
    "count_by_location_source = df.groupby('locationSource')['mag'].count().reset_index()\n",
    "print(\"Insight 1: Number of earthquakes by locationSource\")\n",
    "print(count_by_location_source)"
   ]
  },
  {
   "cell_type": "markdown",
   "metadata": {},
   "source": [
    "### Insight 2: Top N locationSource with Highest Average Magnitude and Count of Earthquakes\n",
    "```python\n",
    "# Insight 2: Top N locationSource with the highest average earthquake magnitude and count of earthquakes\n",
    "top_n = 10  # Change this to your desired top N value\n",
    "\n",
    "# Calculate the mean magnitude and count of earthquakes by region\n",
    "region_stats = df.groupby('locationSource')['mag'].agg(['mean', 'count']).sort_values(by='mean', ascending=False)\n",
    "\n",
    "# Select the top N regions\n",
    "top_regions = region_stats.head(top_n)\n",
    "\n",
    "# Display the result\n",
    "print(f\"Insight 2: Top {top_n} locationSource with the highest average earthquake magnitude and count of earthquakes\")\n",
    "print(top_regions)\n",
    "```\n",
    "\n",
    "**Description**:\n",
    "This insight identifies the top N locationSource with the highest average earthquake magnitude and displays their mean magnitudes along with the count of earthquakes. It provides information on the sources associated with the most intense seismic activities."
   ]
  },
  {
   "cell_type": "code",
   "execution_count": 11,
   "metadata": {},
   "outputs": [
    {
     "name": "stdout",
     "output_type": "stream",
     "text": [
      "Insight 2: Top 10 locationSource with the highest average earthquake magnitude and count of earthquakes\n",
      "                    mean  count\n",
      "locationSource                 \n",
      "pt              6.700000      1\n",
      "dnk             4.300000      1\n",
      "at              4.300000      1\n",
      "us              4.146963   3556\n",
      "pr              2.723965    807\n",
      "se              2.162381     21\n",
      "tx              2.087734   1064\n",
      "hv              1.989097   1407\n",
      "nm              1.880978     92\n",
      "ak              1.618909   6616\n"
     ]
    }
   ],
   "source": [
    "# Insight 2: Top N locationSource with the highest average earthquake magnitude and count of earthquakes\n",
    "top_n = 10  # Change this to your desired top N value\n",
    "\n",
    "# Calculate the mean magnitude and count of earthquakes by region\n",
    "region_stats = df.groupby('locationSource')['mag'].agg(['mean', 'count']).sort_values(by='mean', ascending=False)\n",
    "\n",
    "# Select the top N regions\n",
    "top_regions = region_stats.head(top_n)\n",
    "\n",
    "# Display the result\n",
    "print(f\"Insight 2: Top {top_n} locationSource with the highest average earthquake magnitude and count of earthquakes\")\n",
    "print(top_regions)"
   ]
  },
  {
   "cell_type": "markdown",
   "metadata": {},
   "source": [
    "### Insight 3: Latitude and Longitude with the Highest Frequency of Earthquakes\n",
    "```python\n",
    "# Insight 3: Latitude and longitude with the highest frequency of earthquakes\n",
    "top_coordinates = df.groupby(['latitude', 'longitude']).size().idxmax()\n",
    "latitude, longitude = top_coordinates\n",
    "\n",
    "# Find the number of earthquakes for the top coordinates\n",
    "num_quakes_for_top_coordinates = df[(df['latitude'] == latitude) & (df['longitude'] == longitude)].shape[0]\n",
    "\n",
    "print(\"Insight 3: Latitude and longitude with the highest frequency of earthquakes\")\n",
    "print(f\"Latitude: {latitude}, Longitude: {longitude}\")\n",
    "print(f\"Number of earthquakes for these coordinates: {num_quakes_for_top_coordinates}\")\n",
    "```\n",
    "\n",
    "**Description**:\n",
    "This insight identifies the latitude and longitude coordinates with the highest frequency of earthquakes. Additionally, it displays the number of earthquakes that occurred at this location, providing a hotspot of seismic activity."
   ]
  },
  {
   "cell_type": "code",
   "execution_count": 12,
   "metadata": {},
   "outputs": [
    {
     "name": "stdout",
     "output_type": "stream",
     "text": [
      "Insight 3: Latitude and longitude with the highest frequency of earthquakes\n",
      "Latitude: 31.638, Longitude: -104.012\n",
      "Number of earthquakes for these coordinates: 5\n"
     ]
    }
   ],
   "source": [
    "# Insight 3: Latitude and longitude with the highest frequency of earthquakes\n",
    "top_coordinates = df.groupby(['latitude', 'longitude']).size().idxmax()\n",
    "latitude, longitude = top_coordinates\n",
    "\n",
    "# Find the number of earthquakes for the top coordinates\n",
    "num_quakes_for_top_coordinates = df[(df['latitude'] == latitude) & (df['longitude'] == longitude)].shape[0]\n",
    "\n",
    "print(\"Insight 3: Latitude and longitude with the highest frequency of earthquakes\")\n",
    "print(f\"Latitude: {latitude}, Longitude: {longitude}\")\n",
    "print(f\"Number of earthquakes for these coordinates: {num_quakes_for_top_coordinates}\")"
   ]
  },
  {
   "cell_type": "markdown",
   "metadata": {},
   "source": [
    "### Insight 4: Distribution of Earthquake Depths\n",
    "```python\n",
    "# Insight 4: Distribution of earthquake depths\n",
    "num_bins = 30\n",
    "depth_bins = pd.cut(df['depth'], bins=num_bins)\n",
    "\n",
    "# Create a DataFrame to store the count for each bin\n",
    "depth_distribution_df = pd.DataFrame({'Depth Bin': depth_bins, 'Count': 1})\n",
    "depth_distribution_df = depth_distribution_df.groupby('Depth Bin').count().reset_index()\n",
    "\n",
    "# Display the depth distribution DataFrame\n",
    "print(depth_distribution_df)\n",
    "```\n",
    "Description:\n",
    "This insight provides a  distribution of earthquake depths. It includes count for each set of depths. This helps understand the depth characteristics of earthquakes in the dataset."
   ]
  },
  {
   "cell_type": "code",
   "execution_count": 13,
   "metadata": {},
   "outputs": [
    {
     "name": "stdout",
     "output_type": "stream",
     "text": [
      "             Depth Bin  Count\n",
      "0     (-4.109, 19.193]  12775\n",
      "1     (19.193, 41.816]   2302\n",
      "2     (41.816, 64.439]    991\n",
      "3     (64.439, 87.063]   1081\n",
      "4    (87.063, 109.686]    814\n",
      "5   (109.686, 132.309]    604\n",
      "6   (132.309, 154.932]    187\n",
      "7   (154.932, 177.555]     91\n",
      "8   (177.555, 200.178]     67\n",
      "9   (200.178, 222.802]     53\n",
      "10  (222.802, 245.425]     32\n",
      "11  (245.425, 268.048]     16\n",
      "12  (268.048, 290.671]      7\n",
      "13  (290.671, 313.294]     10\n",
      "14  (313.294, 335.917]      6\n",
      "15  (335.917, 358.541]     11\n",
      "16  (358.541, 381.164]      7\n",
      "17  (381.164, 403.787]     10\n",
      "18   (403.787, 426.41]     11\n",
      "19   (426.41, 449.033]      6\n",
      "20  (449.033, 471.656]      9\n",
      "21   (471.656, 494.28]      8\n",
      "22   (494.28, 516.903]     21\n",
      "23  (516.903, 539.526]     32\n",
      "24  (539.526, 562.149]     36\n",
      "25  (562.149, 584.772]     23\n",
      "26  (584.772, 607.396]     18\n",
      "27  (607.396, 630.019]     10\n",
      "28  (630.019, 652.642]      5\n",
      "29  (652.642, 675.265]      1\n"
     ]
    },
    {
     "name": "stderr",
     "output_type": "stream",
     "text": [
      "C:\\Users\\Sumanth\\AppData\\Local\\Temp\\ipykernel_8020\\3458256730.py:7: FutureWarning: The default of observed=False is deprecated and will be changed to True in a future version of pandas. Pass observed=False to retain current behavior or observed=True to adopt the future default and silence this warning.\n",
      "  depth_distribution_df = depth_distribution_df.groupby('Depth Bin').count().reset_index()\n"
     ]
    }
   ],
   "source": [
    "# Insight 4: Distribution of earthquake depths\n",
    "num_bins = 30\n",
    "depth_bins = pd.cut(df['depth'], bins=num_bins)\n",
    "\n",
    "# Create a DataFrame to store the count for each bin\n",
    "depth_distribution_df = pd.DataFrame({'Depth Bin': depth_bins, 'Count': 1})\n",
    "depth_distribution_df = depth_distribution_df.groupby('Depth Bin').count().reset_index()\n",
    "\n",
    "# Display the depth distribution DataFrame\n",
    "print(depth_distribution_df)"
   ]
  },
  {
   "cell_type": "markdown",
   "metadata": {},
   "source": [
    "### Insight 5: Distribution of quakes types\n",
    "```python\n",
    "# Insight 5: Distribution of Earthquake Types\n",
    "earthquake_types_distribution = df['type'].value_counts().reset_index()\n",
    "print(earthquake_types_distribution)\n",
    "```\n",
    "**Description:**\n",
    "This Pie chart visualizes the distribution of types of quakes."
   ]
  },
  {
   "cell_type": "code",
   "execution_count": 14,
   "metadata": {},
   "outputs": [
    {
     "name": "stdout",
     "output_type": "stream",
     "text": [
      "                     type  count\n",
      "0              earthquake  18581\n",
      "1            quarry blast    270\n",
      "2               ice quake    230\n",
      "3               explosion    134\n",
      "4             other event     17\n",
      "5       volcanic eruption      9\n",
      "6  experimental explosion      1\n",
      "7               landslide      1\n",
      "8        mining explosion      1\n"
     ]
    }
   ],
   "source": [
    "# Insight 5: Distribution of Earthquake Types\n",
    "earthquake_types_distribution = df['type'].value_counts().reset_index()\n",
    "print(earthquake_types_distribution)"
   ]
  },
  {
   "cell_type": "code",
   "execution_count": null,
   "metadata": {},
   "outputs": [],
   "source": []
  }
 ],
 "metadata": {
  "kernelspec": {
   "display_name": "Python 3",
   "language": "python",
   "name": "python3"
  },
  "language_info": {
   "codemirror_mode": {
    "name": "ipython",
    "version": 3
   },
   "file_extension": ".py",
   "mimetype": "text/x-python",
   "name": "python",
   "nbconvert_exporter": "python",
   "pygments_lexer": "ipython3",
   "version": "3.11.7"
  }
 },
 "nbformat": 4,
 "nbformat_minor": 2
}
